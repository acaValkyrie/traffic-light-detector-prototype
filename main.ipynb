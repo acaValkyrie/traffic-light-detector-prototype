{
 "cells": [
  {
   "cell_type": "markdown",
   "metadata": {},
   "source": [
    "Lisence absolutly yae"
   ]
  },
  {
   "cell_type": "code",
   "execution_count": 1,
   "metadata": {},
   "outputs": [],
   "source": [
    "import cv2\n",
    "import numpy as np\n",
    "import os\n",
    "import matplotlib.pyplot as plt\n",
    "import math\n",
    "\n",
    "plt.rcParams[\"font.family\"] = \"IPAexGothic\"\n",
    "IMAGE_RESIZE = (200, 200)\n",
    "\n",
    "# HSV thresholds\n",
    "HSV_THRESHOLDS_A = {\n",
    "    \"A_red\": [((0, 170, 220), (1, 255, 255)), ((170, 170, 220), (179, 255, 255))],\n",
    "    \"A_blue\": [((80, 100, 190), (90, 255, 255))],\n",
    "}\n",
    "\n",
    "HSV_THRESHOLDS_B = {\n",
    "    \"B_red_on\":     [((0, 220, 200), (1, 255, 255)), ((170, 220, 200), (179, 255, 255))],\n",
    "    \"B_red_off\":    [((0, 50, 50), (1, 240, 150)), ((145, 50, 50), (179, 240, 150))],\n",
    "    \"B_blue_on\":    [((80, 150, 90), (100, 255, 180))],\n",
    "    \"B_blue_off\":   [((95, 110, 60), (105, 220, 140))],\n",
    "    \"B_yellow_on\":  [((15, 10, 170), (35, 135, 255))],\n",
    "    \"B_yellow_off\": [((90, 30, 100), (179, 135, 150))],\n",
    "}\n",
    "\n",
    "ALL_THRESHOLDS = {**HSV_THRESHOLDS_A, **HSV_THRESHOLDS_B}\n",
    "\n",
    "LABELS = [\n",
    "    \"元画像\", \"Aの赤\", \"Aの青\",\n",
    "    \"B点灯赤\", \"B消灯赤\",\n",
    "    \"B点灯青\", \"B消灯青\",\n",
    "    \"B点灯黄\", \"B消灯黄\"\n",
    "]"
   ]
  }
 ],
 "metadata": {
  "kernelspec": {
   "display_name": "venv",
   "language": "python",
   "name": "python3"
  },
  "language_info": {
   "codemirror_mode": {
    "name": "ipython",
    "version": 3
   },
   "file_extension": ".py",
   "mimetype": "text/x-python",
   "name": "python",
   "nbconvert_exporter": "python",
   "pygments_lexer": "ipython3",
   "version": "3.12.3"
  }
 },
 "nbformat": 4,
 "nbformat_minor": 2
}
